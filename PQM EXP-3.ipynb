{
 "cells": [
  {
   "cell_type": "code",
   "execution_count": 3,
   "id": "47240d1c",
   "metadata": {},
   "outputs": [
    {
     "data": {
      "text/plain": [
       "array([0.03, 0.08, 0.16, 0.21, 0.24, 0.28])"
      ]
     },
     "execution_count": 3,
     "metadata": {},
     "output_type": "execute_result"
    }
   ],
   "source": [
    "import numpy as np\n",
    "import math\n",
    "p=[[0,0.01,0.03,0.05,0.07,0.09],\n",
    "  [0.01,0.02,0.04,0.05,0.06,0.08],\n",
    "  [0.01,0.03,0.05,0.05,0.05,0.06],\n",
    "  [0.01,0.02,0.04,0.06,0.06,0.05]]\n",
    "px=np.sum(p,axis=0)\n",
    "px\n"
   ]
  },
  {
   "cell_type": "code",
   "execution_count": 4,
   "id": "62f9b809",
   "metadata": {},
   "outputs": [
    {
     "data": {
      "text/plain": [
       "array([0.25, 0.26, 0.25, 0.24])"
      ]
     },
     "execution_count": 4,
     "metadata": {},
     "output_type": "execute_result"
    }
   ],
   "source": [
    "py=np.sum(p,axis=1)\n",
    "py\n",
    "\n"
   ]
  },
  {
   "cell_type": "code",
   "execution_count": 5,
   "id": "93396f93",
   "metadata": {},
   "outputs": [
    {
     "data": {
      "text/plain": [
       "3.3899999999999997"
      ]
     },
     "execution_count": 5,
     "metadata": {},
     "output_type": "execute_result"
    }
   ],
   "source": [
    "\n",
    "x=[0,1,2,3,4,5]\n",
    "ex=np.inner(x,px)\n",
    "ex\n"
   ]
  },
  {
   "cell_type": "code",
   "execution_count": 6,
   "id": "8a7c0e12",
   "metadata": {},
   "outputs": [
    {
     "data": {
      "text/plain": [
       "1.48"
      ]
     },
     "execution_count": 6,
     "metadata": {},
     "output_type": "execute_result"
    }
   ],
   "source": [
    "y=[0,1,2,3]\n",
    "ey=np.inner(y,py)\n",
    "ey\n"
   ]
  },
  {
   "cell_type": "code",
   "execution_count": 7,
   "id": "f6bc2903",
   "metadata": {},
   "outputs": [
    {
     "data": {
      "text/plain": [
       "13.45"
      ]
     },
     "execution_count": 7,
     "metadata": {},
     "output_type": "execute_result"
    }
   ],
   "source": [
    "\n",
    "ex2=np.inner(np.square(x),px)\n",
    "ex2\n",
    "\n"
   ]
  },
  {
   "cell_type": "code",
   "execution_count": 8,
   "id": "c88bca03",
   "metadata": {},
   "outputs": [
    {
     "data": {
      "text/plain": [
       "3.42"
      ]
     },
     "execution_count": 8,
     "metadata": {},
     "output_type": "execute_result"
    }
   ],
   "source": [
    "ey2=np.inner(np.square(y),py)\n",
    "ey2\n"
   ]
  },
  {
   "cell_type": "code",
   "execution_count": 9,
   "id": "bde3eabd",
   "metadata": {},
   "outputs": [
    {
     "data": {
      "text/plain": [
       "1.9579000000000022"
      ]
     },
     "execution_count": 9,
     "metadata": {},
     "output_type": "execute_result"
    }
   ],
   "source": [
    "vx=ex2-ex**2\n",
    "sx=math.sqrt(vx)\n",
    "vx\n"
   ]
  },
  {
   "cell_type": "code",
   "execution_count": 10,
   "id": "6aef01cf",
   "metadata": {},
   "outputs": [
    {
     "data": {
      "text/plain": [
       "1.2296"
      ]
     },
     "execution_count": 10,
     "metadata": {},
     "output_type": "execute_result"
    }
   ],
   "source": [
    "vy=ey2-ey**2\n",
    "sy=math.sqrt(vy)\n",
    "vy\n"
   ]
  },
  {
   "cell_type": "code",
   "execution_count": 11,
   "id": "2a62cb5c",
   "metadata": {},
   "outputs": [
    {
     "data": {
      "text/plain": [
       "4.76"
      ]
     },
     "execution_count": 11,
     "metadata": {},
     "output_type": "execute_result"
    }
   ],
   "source": [
    "exy=0\n",
    "for i in range(6):\n",
    "    for j in range(4):\n",
    "        exy=exy+x[i]*y[j]*p[j][i]\n",
    "exy\n"
   ]
  },
  {
   "cell_type": "code",
   "execution_count": 13,
   "id": "a5fd6cb5",
   "metadata": {},
   "outputs": [
    {
     "data": {
      "text/plain": [
       "-0.1657653610188162"
      ]
     },
     "execution_count": 13,
     "metadata": {},
     "output_type": "execute_result"
    }
   ],
   "source": [
    "cov=exy-ex*ey\n",
    "r=cov/(sx*sy)\n",
    "r"
   ]
  },
  {
   "cell_type": "code",
   "execution_count": null,
   "id": "a59cd272",
   "metadata": {},
   "outputs": [],
   "source": []
  }
 ],
 "metadata": {
  "kernelspec": {
   "display_name": "Python 3",
   "language": "python",
   "name": "python3"
  },
  "language_info": {
   "codemirror_mode": {
    "name": "ipython",
    "version": 3
   },
   "file_extension": ".py",
   "mimetype": "text/x-python",
   "name": "python",
   "nbconvert_exporter": "python",
   "pygments_lexer": "ipython3",
   "version": "3.8.8"
  }
 },
 "nbformat": 4,
 "nbformat_minor": 5
}
